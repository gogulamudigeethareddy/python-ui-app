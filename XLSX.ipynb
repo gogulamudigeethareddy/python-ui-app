{
 "cells": [
  {
   "cell_type": "code",
   "execution_count": 2,
   "id": "5f2aa607",
   "metadata": {},
   "outputs": [],
   "source": [
    "#FOR IMPORTING DATA -> read_excel SIMILAR TO read_csv"
   ]
  },
  {
   "cell_type": "code",
   "execution_count": 3,
   "id": "761c8134",
   "metadata": {},
   "outputs": [],
   "source": [
    "#use sheet name to select a sheet"
   ]
  },
  {
   "cell_type": "code",
   "execution_count": 4,
   "id": "8f943fda",
   "metadata": {},
   "outputs": [],
   "source": [
    "#skiprows,nrows,usecols,converters"
   ]
  },
  {
   "cell_type": "code",
   "execution_count": 5,
   "id": "fee4a9a6",
   "metadata": {},
   "outputs": [],
   "source": [
    "#parse is used"
   ]
  },
  {
   "cell_type": "code",
   "execution_count": 6,
   "id": "ffb16e7f",
   "metadata": {},
   "outputs": [],
   "source": [
    "#easy to load using pandas and xlrd"
   ]
  },
  {
   "cell_type": "code",
   "execution_count": null,
   "id": "e00946c2",
   "metadata": {},
   "outputs": [],
   "source": []
  }
 ],
 "metadata": {
  "kernelspec": {
   "display_name": "Python 3 (ipykernel)",
   "language": "python",
   "name": "python3"
  },
  "language_info": {
   "codemirror_mode": {
    "name": "ipython",
    "version": 3
   },
   "file_extension": ".py",
   "mimetype": "text/x-python",
   "name": "python",
   "nbconvert_exporter": "python",
   "pygments_lexer": "ipython3",
   "version": "3.10.9"
  }
 },
 "nbformat": 4,
 "nbformat_minor": 5
}
