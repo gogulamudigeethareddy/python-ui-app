{
 "cells": [
  {
   "cell_type": "code",
   "execution_count": 2,
   "id": "a758a10b",
   "metadata": {},
   "outputs": [],
   "source": [
    "#SQLite Pandas Psycopg2 SQLAlchemy MySQL PostgreSQL"
   ]
  },
  {
   "cell_type": "code",
   "execution_count": 3,
   "id": "f3d4185e",
   "metadata": {},
   "outputs": [],
   "source": [
    "import sqlite3"
   ]
  },
  {
   "cell_type": "code",
   "execution_count": 4,
   "id": "9c3cd647",
   "metadata": {},
   "outputs": [],
   "source": [
    "#connection using connect, library and db file is used(sqlite.db)"
   ]
  },
  {
   "cell_type": "code",
   "execution_count": 5,
   "id": "af27335d",
   "metadata": {},
   "outputs": [],
   "source": [
    "#creating cursor object and execution"
   ]
  },
  {
   "cell_type": "code",
   "execution_count": 6,
   "id": "f4c80704",
   "metadata": {},
   "outputs": [],
   "source": [
    "#fetchone, fetchall, returns lists of tuple type"
   ]
  },
  {
   "cell_type": "code",
   "execution_count": 7,
   "id": "3067d32e",
   "metadata": {},
   "outputs": [],
   "source": [
    "#Pandas"
   ]
  },
  {
   "cell_type": "code",
   "execution_count": 8,
   "id": "84978fcb",
   "metadata": {},
   "outputs": [],
   "source": [
    "#read_sql with read_sql_qurey and read_sql_table"
   ]
  },
  {
   "cell_type": "code",
   "execution_count": 9,
   "id": "4eaa7c7f",
   "metadata": {},
   "outputs": [],
   "source": [
    "#SQLAlchemy"
   ]
  },
  {
   "cell_type": "code",
   "execution_count": 10,
   "id": "7a0b4672",
   "metadata": {},
   "outputs": [],
   "source": [
    "from sqlalchemy import create_engine"
   ]
  },
  {
   "cell_type": "code",
   "execution_count": 11,
   "id": "b493a7e6",
   "metadata": {},
   "outputs": [],
   "source": [
    "#create_engine"
   ]
  },
  {
   "cell_type": "code",
   "execution_count": 13,
   "id": "0a1f72ee",
   "metadata": {},
   "outputs": [],
   "source": [
    "#dialects of SQL -> SQLite, MySQL, PostgreSQL with dbname"
   ]
  },
  {
   "cell_type": "code",
   "execution_count": 14,
   "id": "8ba84a35",
   "metadata": {},
   "outputs": [],
   "source": [
    "#MySQL "
   ]
  },
  {
   "cell_type": "code",
   "execution_count": 15,
   "id": "f129c562",
   "metadata": {},
   "outputs": [],
   "source": [
    "#client-sever model"
   ]
  },
  {
   "cell_type": "code",
   "execution_count": 16,
   "id": "9dbd6a1d",
   "metadata": {},
   "outputs": [],
   "source": [
    "#Posts,tags,users"
   ]
  },
  {
   "cell_type": "code",
   "execution_count": 17,
   "id": "a8f83197",
   "metadata": {},
   "outputs": [],
   "source": [
    "#read_sql_table"
   ]
  },
  {
   "cell_type": "code",
   "execution_count": 18,
   "id": "fb5fe26e",
   "metadata": {},
   "outputs": [],
   "source": [
    "#PostgreSQL and Psycopg2"
   ]
  },
  {
   "cell_type": "code",
   "execution_count": 19,
   "id": "9f9b6c84",
   "metadata": {},
   "outputs": [],
   "source": [
    "#Psycopg2 -> PostgreSQL + Python"
   ]
  },
  {
   "cell_type": "code",
   "execution_count": 20,
   "id": "db5e6a48",
   "metadata": {},
   "outputs": [
    {
     "ename": "ModuleNotFoundError",
     "evalue": "No module named 'psycopg2'",
     "output_type": "error",
     "traceback": [
      "\u001b[0;31m---------------------------------------------------------------------------\u001b[0m",
      "\u001b[0;31mModuleNotFoundError\u001b[0m                       Traceback (most recent call last)",
      "Cell \u001b[0;32mIn[20], line 1\u001b[0m\n\u001b[0;32m----> 1\u001b[0m \u001b[38;5;28;01mimport\u001b[39;00m \u001b[38;5;21;01mpsycopg2\u001b[39;00m\n",
      "\u001b[0;31mModuleNotFoundError\u001b[0m: No module named 'psycopg2'"
     ]
    }
   ],
   "source": [
    "import psycopg2"
   ]
  },
  {
   "cell_type": "code",
   "execution_count": 21,
   "id": "1cc77d55",
   "metadata": {},
   "outputs": [],
   "source": [
    "#connection using connect"
   ]
  },
  {
   "cell_type": "code",
   "execution_count": 22,
   "id": "81a1ef6d",
   "metadata": {},
   "outputs": [],
   "source": [
    "#Query with execute using cursor"
   ]
  },
  {
   "cell_type": "code",
   "execution_count": 23,
   "id": "dd0492d3",
   "metadata": {},
   "outputs": [],
   "source": [
    "#should use commit if connection is not used \n",
    "#and should close the connection when not used"
   ]
  },
  {
   "cell_type": "code",
   "execution_count": 24,
   "id": "94ca347e",
   "metadata": {},
   "outputs": [],
   "source": [
    "#Relational Data importing\n",
    "#SQL"
   ]
  },
  {
   "cell_type": "code",
   "execution_count": 25,
   "id": "57dea4ed",
   "metadata": {},
   "outputs": [],
   "source": [
    "#read_sql"
   ]
  },
  {
   "cell_type": "code",
   "execution_count": null,
   "id": "41863501",
   "metadata": {},
   "outputs": [],
   "source": []
  }
 ],
 "metadata": {
  "kernelspec": {
   "display_name": "Python 3 (ipykernel)",
   "language": "python",
   "name": "python3"
  },
  "language_info": {
   "codemirror_mode": {
    "name": "ipython",
    "version": 3
   },
   "file_extension": ".py",
   "mimetype": "text/x-python",
   "name": "python",
   "nbconvert_exporter": "python",
   "pygments_lexer": "ipython3",
   "version": "3.10.9"
  }
 },
 "nbformat": 4,
 "nbformat_minor": 5
}
