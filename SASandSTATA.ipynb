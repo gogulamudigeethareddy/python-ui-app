{
 "cells": [
  {
   "cell_type": "code",
   "execution_count": 1,
   "id": "d4c63171",
   "metadata": {},
   "outputs": [],
   "source": [
    "#SAS  Statistical Analysis System"
   ]
  },
  {
   "cell_type": "code",
   "execution_count": 2,
   "id": "42f9bba9",
   "metadata": {},
   "outputs": [],
   "source": [
    "#Read SAS files uding SAS7BDAT and pandas "
   ]
  },
  {
   "cell_type": "code",
   "execution_count": 3,
   "id": "e079b1b2",
   "metadata": {},
   "outputs": [
    {
     "ename": "ModuleNotFoundError",
     "evalue": "No module named 'sas7bdat'",
     "output_type": "error",
     "traceback": [
      "\u001b[0;31m---------------------------------------------------------------------------\u001b[0m",
      "\u001b[0;31mModuleNotFoundError\u001b[0m                       Traceback (most recent call last)",
      "Cell \u001b[0;32mIn[3], line 1\u001b[0m\n\u001b[0;32m----> 1\u001b[0m \u001b[38;5;28;01mfrom\u001b[39;00m \u001b[38;5;21;01msas7bdat\u001b[39;00m \u001b[38;5;28;01mimport\u001b[39;00m SAS7BDAT\n",
      "\u001b[0;31mModuleNotFoundError\u001b[0m: No module named 'sas7bdat'"
     ]
    }
   ],
   "source": [
    "from sas7bdat import SAS7BDAT"
   ]
  },
  {
   "cell_type": "code",
   "execution_count": 5,
   "id": "59e657f8",
   "metadata": {},
   "outputs": [],
   "source": [
    "#reading SAS files -> read_sas "
   ]
  },
  {
   "cell_type": "code",
   "execution_count": 6,
   "id": "b70a8542",
   "metadata": {},
   "outputs": [],
   "source": [
    "#chunksize is used for large files through pandas"
   ]
  },
  {
   "cell_type": "code",
   "execution_count": 7,
   "id": "2182f3a8",
   "metadata": {},
   "outputs": [],
   "source": [
    "#STATA Statistical software package (Statistics + Data)"
   ]
  },
  {
   "cell_type": "code",
   "execution_count": 8,
   "id": "9351044b",
   "metadata": {},
   "outputs": [],
   "source": [
    "#using pandas, read_stata"
   ]
  },
  {
   "cell_type": "code",
   "execution_count": 9,
   "id": "3816288f",
   "metadata": {},
   "outputs": [],
   "source": [
    "#HDF5 Hierarchical Data Format version 5"
   ]
  },
  {
   "cell_type": "code",
   "execution_count": 11,
   "id": "75996923",
   "metadata": {},
   "outputs": [],
   "source": [
    "# Store large quantities of numerical data "
   ]
  },
  {
   "cell_type": "code",
   "execution_count": 12,
   "id": "7a319fda",
   "metadata": {},
   "outputs": [],
   "source": [
    "# reading -> h5py and pandas, requires PyTables"
   ]
  },
  {
   "cell_type": "code",
   "execution_count": 13,
   "id": "7e83e141",
   "metadata": {},
   "outputs": [],
   "source": [
    "import h5py"
   ]
  },
  {
   "cell_type": "code",
   "execution_count": 14,
   "id": "6db250db",
   "metadata": {},
   "outputs": [],
   "source": [
    "import pandas as pd "
   ]
  },
  {
   "cell_type": "code",
   "execution_count": 16,
   "id": "bf85d426",
   "metadata": {},
   "outputs": [
    {
     "ename": "FileNotFoundError",
     "evalue": "File filename.h5 does not exist",
     "output_type": "error",
     "traceback": [
      "\u001b[0;31m---------------------------------------------------------------------------\u001b[0m",
      "\u001b[0;31mFileNotFoundError\u001b[0m                         Traceback (most recent call last)",
      "Cell \u001b[0;32mIn[16], line 1\u001b[0m\n\u001b[0;32m----> 1\u001b[0m posts_hdf \u001b[38;5;241m=\u001b[39m \u001b[43mpd\u001b[49m\u001b[38;5;241;43m.\u001b[39;49m\u001b[43mread_hdf\u001b[49m\u001b[43m(\u001b[49m\u001b[38;5;124;43m'\u001b[39;49m\u001b[38;5;124;43mfilename.h5\u001b[39;49m\u001b[38;5;124;43m'\u001b[39;49m\u001b[43m,\u001b[49m\u001b[38;5;124;43m'\u001b[39;49m\u001b[38;5;124;43mposts\u001b[39;49m\u001b[38;5;124;43m'\u001b[39;49m\u001b[43m)\u001b[49m\n",
      "File \u001b[0;32m~/anaconda3/lib/python3.10/site-packages/pandas/io/pytables.py:414\u001b[0m, in \u001b[0;36mread_hdf\u001b[0;34m(path_or_buf, key, mode, errors, where, start, stop, columns, iterator, chunksize, **kwargs)\u001b[0m\n\u001b[1;32m    411\u001b[0m     exists \u001b[38;5;241m=\u001b[39m \u001b[38;5;28;01mFalse\u001b[39;00m\n\u001b[1;32m    413\u001b[0m \u001b[38;5;28;01mif\u001b[39;00m \u001b[38;5;129;01mnot\u001b[39;00m exists:\n\u001b[0;32m--> 414\u001b[0m     \u001b[38;5;28;01mraise\u001b[39;00m \u001b[38;5;167;01mFileNotFoundError\u001b[39;00m(\u001b[38;5;124mf\u001b[39m\u001b[38;5;124m\"\u001b[39m\u001b[38;5;124mFile \u001b[39m\u001b[38;5;132;01m{\u001b[39;00mpath_or_buf\u001b[38;5;132;01m}\u001b[39;00m\u001b[38;5;124m does not exist\u001b[39m\u001b[38;5;124m\"\u001b[39m)\n\u001b[1;32m    416\u001b[0m store \u001b[38;5;241m=\u001b[39m HDFStore(path_or_buf, mode\u001b[38;5;241m=\u001b[39mmode, errors\u001b[38;5;241m=\u001b[39merrors, \u001b[38;5;241m*\u001b[39m\u001b[38;5;241m*\u001b[39mkwargs)\n\u001b[1;32m    417\u001b[0m \u001b[38;5;66;03m# can't auto open/close if we are using an iterator\u001b[39;00m\n\u001b[1;32m    418\u001b[0m \u001b[38;5;66;03m# so delegate to the iterator\u001b[39;00m\n",
      "\u001b[0;31mFileNotFoundError\u001b[0m: File filename.h5 does not exist"
     ]
    }
   ],
   "source": [
    "posts_hdf = pd.read_hdf('filename.h5','posts')"
   ]
  },
  {
   "cell_type": "code",
   "execution_count": 17,
   "id": "c02edba3",
   "metadata": {},
   "outputs": [],
   "source": [
    "#MATLAB Matrix Laboratory"
   ]
  },
  {
   "cell_type": "code",
   "execution_count": 18,
   "id": "3724307f",
   "metadata": {},
   "outputs": [],
   "source": [
    " import scipy.io"
   ]
  },
  {
   "cell_type": "code",
   "execution_count": 19,
   "id": "19a283b2",
   "metadata": {},
   "outputs": [],
   "source": [
    "#load mat , ndarray"
   ]
  },
  {
   "cell_type": "code",
   "execution_count": 20,
   "id": "e520b7a6",
   "metadata": {},
   "outputs": [],
   "source": [
    "#Pickle -> python specific"
   ]
  },
  {
   "cell_type": "code",
   "execution_count": 21,
   "id": "7540bab5",
   "metadata": {},
   "outputs": [],
   "source": [
    "#To serialise and deserializing objects"
   ]
  },
  {
   "cell_type": "code",
   "execution_count": 22,
   "id": "5ad326b1",
   "metadata": {},
   "outputs": [],
   "source": [
    "#load and loads"
   ]
  },
  {
   "cell_type": "code",
   "execution_count": 23,
   "id": "69e19f6f",
   "metadata": {},
   "outputs": [],
   "source": [
    "import pickle"
   ]
  },
  {
   "cell_type": "code",
   "execution_count": 24,
   "id": "21e968a0",
   "metadata": {},
   "outputs": [],
   "source": [
    "#read_pickle"
   ]
  },
  {
   "cell_type": "code",
   "execution_count": null,
   "id": "eb6ec9f0",
   "metadata": {},
   "outputs": [],
   "source": []
  }
 ],
 "metadata": {
  "kernelspec": {
   "display_name": "Python 3 (ipykernel)",
   "language": "python",
   "name": "python3"
  },
  "language_info": {
   "codemirror_mode": {
    "name": "ipython",
    "version": 3
   },
   "file_extension": ".py",
   "mimetype": "text/x-python",
   "name": "python",
   "nbconvert_exporter": "python",
   "pygments_lexer": "ipython3",
   "version": "3.10.9"
  }
 },
 "nbformat": 4,
 "nbformat_minor": 5
}
